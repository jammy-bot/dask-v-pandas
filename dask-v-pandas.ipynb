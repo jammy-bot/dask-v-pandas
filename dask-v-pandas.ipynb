{
 "cells": [
  {
   "cell_type": "markdown",
   "metadata": {},
   "source": [
    "# Dask Acceleration vs Pandas\n",
    "\n",
    "This notebook explores speed advantages realized by using the Dask library over Pandas for dataframe operations in Python.\n",
    "\n",
    "| Tech | Version |\n",
    "| --- | --- |\n",
    "| Python | 3.6.9 |\n",
    "| jupyter-notebook | 6.0.1 |\n",
    "| pandas | 1.0.3 |\n",
    "| dask | 2.17.2 |\n",
    "| x64 - based PC | i7 - 2.60 GHz |\n",
    "| RAM | 16.0 GB |\n",
    "\n",
    "Hat - tip to Saturn Cloud's [Your Practical Guide to Dask](https://www.saturncloud.io/s/practical-guide-to-dask/)."
   ]
  },
  {
   "cell_type": "code",
   "execution_count": 1,
   "metadata": {},
   "outputs": [],
   "source": [
    "# importing library to measure execution time\n",
    "import timeit\n",
    "from timeit import default_timer as timer\n",
    "\n",
    "# starting timer for complete notebook execution\n",
    "notebook_start = timer()"
   ]
  },
  {
   "cell_type": "code",
   "execution_count": 2,
   "metadata": {},
   "outputs": [],
   "source": [
    "# importing required libraries\n",
    "import random\n",
    "import pandas as pd\n",
    "import os # for directory operations"
   ]
  },
  {
   "cell_type": "markdown",
   "metadata": {},
   "source": [
    "__Randomize stock data in Python and save the data as a Pandas dataframe.__"
   ]
  },
  {
   "cell_type": "code",
   "execution_count": 3,
   "metadata": {},
   "outputs": [],
   "source": [
    "# instantiating 1M random stock records\n",
    "num_rows = 1000000\n",
    "\n",
    "symbols = [\"AAPL\", \"AMD\", \"GOOG\", \"MSFT\", \"NVDA\"]\n",
    "prices = [random.randint(1, 500) for _ in range(50)]"
   ]
  },
  {
   "cell_type": "code",
   "execution_count": 4,
   "metadata": {},
   "outputs": [],
   "source": [
    "def get_stock_data(symbols, prices):\n",
    "    '''\n",
    "    function to generate random stock data from the\n",
    "    `symbols` list and the randomized `prices` list\n",
    "    '''\n",
    "    return {\"symbol\": random.sample(symbols, 1)[0],\n",
    "            \"price\": random.sample(prices, 1)[0]}"
   ]
  },
  {
   "cell_type": "code",
   "execution_count": 5,
   "metadata": {},
   "outputs": [],
   "source": [
    "# using the function to generate stock data for the\n",
    "# number of rows instantiated in `num_rows`\n",
    "stock_data = [get_stock_data(symbols, prices) for _ in range(num_rows)]\n",
    "\n",
    "# instantiate data as a pandas dataframe\n",
    "stock_df = pd.DataFrame(stock_data,\n",
    "                        columns=[\"symbol\", \"price\"])"
   ]
  },
  {
   "cell_type": "markdown",
   "metadata": {},
   "source": [
    "__Export stock data to a csv file.__"
   ]
  },
  {
   "cell_type": "code",
   "execution_count": 6,
   "metadata": {},
   "outputs": [
    {
     "data": {
      "text/html": [
       "<div>\n",
       "<style scoped>\n",
       "    .dataframe tbody tr th:only-of-type {\n",
       "        vertical-align: middle;\n",
       "    }\n",
       "\n",
       "    .dataframe tbody tr th {\n",
       "        vertical-align: top;\n",
       "    }\n",
       "\n",
       "    .dataframe thead th {\n",
       "        text-align: right;\n",
       "    }\n",
       "</style>\n",
       "<table border=\"1\" class=\"dataframe\">\n",
       "  <thead>\n",
       "    <tr style=\"text-align: right;\">\n",
       "      <th></th>\n",
       "      <th>symbol</th>\n",
       "      <th>price</th>\n",
       "    </tr>\n",
       "  </thead>\n",
       "  <tbody>\n",
       "    <tr>\n",
       "      <th>0</th>\n",
       "      <td>GOOG</td>\n",
       "      <td>12</td>\n",
       "    </tr>\n",
       "    <tr>\n",
       "      <th>1</th>\n",
       "      <td>NVDA</td>\n",
       "      <td>166</td>\n",
       "    </tr>\n",
       "    <tr>\n",
       "      <th>2</th>\n",
       "      <td>AMD</td>\n",
       "      <td>403</td>\n",
       "    </tr>\n",
       "    <tr>\n",
       "      <th>3</th>\n",
       "      <td>MSFT</td>\n",
       "      <td>388</td>\n",
       "    </tr>\n",
       "    <tr>\n",
       "      <th>4</th>\n",
       "      <td>NVDA</td>\n",
       "      <td>103</td>\n",
       "    </tr>\n",
       "  </tbody>\n",
       "</table>\n",
       "</div>"
      ],
      "text/plain": [
       "  symbol  price\n",
       "0   GOOG     12\n",
       "1   NVDA    166\n",
       "2    AMD    403\n",
       "3   MSFT    388\n",
       "4   NVDA    103"
      ]
     },
     "execution_count": 6,
     "metadata": {},
     "output_type": "execute_result"
    }
   ],
   "source": [
    "# save `stock_df` as a csv file in the data subdirectory\n",
    "if not os.path.exists('data'):\n",
    "    os.makedir('data')\n",
    "\n",
    "# prefix filename with '__rc__' to .gitignore\n",
    "stock_df.to_csv(\"data/_rc_stock_data.csv\")\n",
    "\n",
    "# preview the dataframe\n",
    "stock_df.head()"
   ]
  },
  {
   "cell_type": "markdown",
   "metadata": {},
   "source": [
    "## Load csv Data to a Dask Dataframe"
   ]
  },
  {
   "cell_type": "code",
   "execution_count": 7,
   "metadata": {},
   "outputs": [],
   "source": [
    "import dask.dataframe as dd\n",
    "\n",
    "# loading csv data to a dask dataframe\n",
    "dask_df = dd.read_csv(\"data/_rc_stock_data.csv\")"
   ]
  },
  {
   "cell_type": "markdown",
   "metadata": {},
   "source": [
    "__Repartition dask data to sizes of 100MB-or-less, per [official documentation](https://docs.dask.org/en/latest/dataframe-best-practices.html#repartition-to-reduce-overhead)__."
   ]
  },
  {
   "cell_type": "code",
   "execution_count": 8,
   "metadata": {},
   "outputs": [],
   "source": [
    "# repartitioning dask dataframe from csv\n",
    "dask_df = dask_df.repartition(partition_size=\"100MB\")\n",
    "\n",
    "# loading pandas dataframe from csv\n",
    "pandas_df = pd.read_csv(\"data/_rc_stock_data.csv\")"
   ]
  },
  {
   "cell_type": "markdown",
   "metadata": {},
   "source": [
    "## Compute CPU Acceleration with Dask vs Pandas"
   ]
  },
  {
   "cell_type": "markdown",
   "metadata": {},
   "source": [
    "### Calculating Mean"
   ]
  },
  {
   "cell_type": "markdown",
   "metadata": {},
   "source": [
    "__Create functions to calculate mean for the same dataframe in each of the two libraries.__"
   ]
  },
  {
   "cell_type": "code",
   "execution_count": 9,
   "metadata": {},
   "outputs": [],
   "source": [
    "def pandas_mean():\n",
    "    '''Calculates mean using pandas\n",
    "    ''' \n",
    "    pandas_df[\"price\"].mean()\n",
    "    \n",
    "def dask_mean():\n",
    "    '''Calculate means using dask\n",
    "    ''' \n",
    "    dask_df[\"price\"].mean()"
   ]
  },
  {
   "cell_type": "markdown",
   "metadata": {},
   "source": [
    "__Compare Calculating Means (single iteration)__"
   ]
  },
  {
   "cell_type": "code",
   "execution_count": 10,
   "metadata": {},
   "outputs": [
    {
     "name": "stdout",
     "output_type": "stream",
     "text": [
      "\n",
      "pandas execution time:  0.0012\n",
      "------------------------------\n",
      "\n",
      "dask execution time:  0.00146\n"
     ]
    }
   ],
   "source": [
    "print(\"\\npandas execution time: \", round(\n",
    "    timeit.timeit(pandas_mean, number=1), 5)\n",
    "     )\n",
    "print(\"-\"*30)\n",
    "\n",
    "print(\"\\ndask execution time: \", round(\n",
    "    timeit.timeit(dask_mean, number=1), 5)\n",
    "     )"
   ]
  },
  {
   "cell_type": "code",
   "execution_count": 11,
   "metadata": {},
   "outputs": [
    {
     "name": "stdout",
     "output_type": "stream",
     "text": [
      "pandas execution time:  0.00166\n",
      "------------------------------\n",
      "\n",
      "dask execution time:  0.00214\n"
     ]
    }
   ],
   "source": [
    "# computing and comparing task execution\n",
    "start = timer()\n",
    "\n",
    "# Calculate mean using pandas\n",
    "pandas_df[\"price\"].mean()\n",
    "\n",
    "end = timer()\n",
    "\n",
    "# print time elapsed in seconds\n",
    "print(\"pandas execution time: \", round(end - start, 5))\n",
    "print(\"-\"*30)\n",
    "\n",
    "start = timer()\n",
    "\n",
    "# Calculate mean using Dask\n",
    "dask_df[\"price\"].mean()\n",
    "\n",
    "end = timer()\n",
    "\n",
    "# print time elapsed in seconds\n",
    "print(\"\\ndask execution time: \", round(end - start, 5))"
   ]
  },
  {
   "cell_type": "markdown",
   "metadata": {},
   "source": [
    "__Compare Calculating Means (10K iterations)__"
   ]
  },
  {
   "cell_type": "code",
   "execution_count": 12,
   "metadata": {},
   "outputs": [
    {
     "name": "stdout",
     "output_type": "stream",
     "text": [
      "\n",
      "pandas execution time:  8.72\n",
      "------------------------------\n",
      "\n",
      "dask execution time:  10.12\n"
     ]
    }
   ],
   "source": [
    "print(\"\\npandas execution time: \", round(\n",
    "    timeit.timeit(pandas_mean, number=10000), 2)\n",
    "     )\n",
    "print(\"-\"*30)\n",
    "\n",
    "print(\"\\ndask execution time: \", round(\n",
    "    timeit.timeit(dask_mean, number=10000), 2)\n",
    "     )"
   ]
  },
  {
   "cell_type": "markdown",
   "metadata": {},
   "source": [
    "__Compare Calculating Means (100K iterations)__"
   ]
  },
  {
   "cell_type": "code",
   "execution_count": 13,
   "metadata": {},
   "outputs": [
    {
     "name": "stdout",
     "output_type": "stream",
     "text": [
      "\n",
      "pandas execution time:  84.52\n",
      "------------------------------\n",
      "\n",
      "dask execution time:  99.38\n"
     ]
    }
   ],
   "source": [
    "print(\"\\npandas execution time: \", round(\n",
    "    timeit.timeit(pandas_mean, number=100000), 2)\n",
    "     )\n",
    "print(\"-\"*30)\n",
    "\n",
    "print(\"\\ndask execution time: \", round(\n",
    "    timeit.timeit(dask_mean, number=100000), 2)\n",
    "     )"
   ]
  },
  {
   "cell_type": "markdown",
   "metadata": {},
   "source": [
    "> Calculating means is about 17.6% slower over a large dataset, with dask on CPU."
   ]
  },
  {
   "cell_type": "markdown",
   "metadata": {},
   "source": [
    "### Filtering"
   ]
  },
  {
   "cell_type": "markdown",
   "metadata": {},
   "source": [
    "__Create functions to filter dataframe in each of the two libraries.__"
   ]
  },
  {
   "cell_type": "code",
   "execution_count": 14,
   "metadata": {},
   "outputs": [],
   "source": [
    "def pandas_filter():\n",
    "    '''Filters by price using pandas\n",
    "    ''' \n",
    "    pandas_df[pandas_df[\"price\"] > 250]\n",
    "    \n",
    "def dask_filter():\n",
    "    '''Filters by price using dask\n",
    "    ''' \n",
    "    dask_df[dask_df[\"price\"] > 250]"
   ]
  },
  {
   "cell_type": "markdown",
   "metadata": {},
   "source": [
    "__Compare Filtering Dataframes (single iteration)__"
   ]
  },
  {
   "cell_type": "code",
   "execution_count": 15,
   "metadata": {},
   "outputs": [
    {
     "name": "stdout",
     "output_type": "stream",
     "text": [
      "\n",
      "pandas execution time:  0.01715\n",
      "------------------------------\n",
      "\n",
      "dask execution time:  0.00097\n"
     ]
    }
   ],
   "source": [
    "print(\"\\npandas execution time: \", round(\n",
    "    timeit.timeit(pandas_filter, number=1), 5)\n",
    "     )\n",
    "print(\"-\"*30)\n",
    "\n",
    "print(\"\\ndask execution time: \", round(\n",
    "    timeit.timeit(dask_filter, number=1), 5)\n",
    "     )"
   ]
  },
  {
   "cell_type": "code",
   "execution_count": 16,
   "metadata": {},
   "outputs": [
    {
     "name": "stdout",
     "output_type": "stream",
     "text": [
      "pandas execution time:  0.01508\n",
      "------------------------------\n",
      "\n",
      "dask execution time:  0.00107\n"
     ]
    }
   ],
   "source": [
    "start_p = timer()\n",
    "# Filtering by price in Pandas\n",
    "pandas_df[pandas_df[\"price\"] > 250]\n",
    "end_p = timer()\n",
    "pandas_time = round(end_p - start_p, 5)\n",
    "print(\"pandas execution time: \", pandas_time)\n",
    "print(\"-\"*30)\n",
    "\n",
    "start_d = timer()\n",
    "# Filtering by price in Dask\n",
    "dask_df[dask_df[\"price\"] > 250]\n",
    "end_d = timer()\n",
    "dask_time = round(end_d - start_d, 5)\n",
    "print(\"\\ndask execution time: \", dask_time)"
   ]
  },
  {
   "cell_type": "markdown",
   "metadata": {},
   "source": [
    "__Compare Filtering Dataframes (10K iterations)__"
   ]
  },
  {
   "cell_type": "code",
   "execution_count": 18,
   "metadata": {},
   "outputs": [
    {
     "name": "stdout",
     "output_type": "stream",
     "text": [
      "\n",
      "pandas execution time:  134.14251\n",
      "------------------------------\n",
      "\n",
      "dask execution time:  6.87882\n"
     ]
    }
   ],
   "source": [
    "print(\"\\npandas execution time: \", round(\n",
    "    timeit.timeit(pandas_filter, number=10000), 5)\n",
    "     )\n",
    "print(\"-\"*30)\n",
    "\n",
    "print(\"\\ndask execution time: \", round(\n",
    "    timeit.timeit(dask_filter, number=10000), 5)\n",
    "     )"
   ]
  },
  {
   "cell_type": "markdown",
   "metadata": {},
   "source": [
    "__Compare Filtering Dataframes (100K iterations)__"
   ]
  },
  {
   "cell_type": "code",
   "execution_count": 19,
   "metadata": {},
   "outputs": [
    {
     "name": "stdout",
     "output_type": "stream",
     "text": [
      "\n",
      "pandas execution time:  1322.65833\n",
      "------------------------------\n",
      "\n",
      "dask execution time:  69.662\n"
     ]
    }
   ],
   "source": [
    "print(\"\\npandas execution time: \", round(\n",
    "    timeit.timeit(pandas_filter, number=100000), 5)\n",
    "     )\n",
    "print(\"-\"*30)\n",
    "\n",
    "print(\"\\ndask execution time: \", round(\n",
    "    timeit.timeit(dask_filter, number=100000), 5)\n",
    "     )"
   ]
  },
  {
   "cell_type": "markdown",
   "metadata": {},
   "source": [
    "> Filtering is about 94.7% faster over a large dataset, with dask on CPU."
   ]
  },
  {
   "cell_type": "markdown",
   "metadata": {},
   "source": [
    "### Adding"
   ]
  },
  {
   "cell_type": "markdown",
   "metadata": {},
   "source": [
    "__Create functions to add dataframes in each of the two libraries.__"
   ]
  },
  {
   "cell_type": "code",
   "execution_count": 20,
   "metadata": {},
   "outputs": [],
   "source": [
    "def pandas_add():\n",
    "    '''Adds dataframes together using pandas\n",
    "    ''' \n",
    "    pandas_df + pandas_df + pandas_df + pandas_df + pandas_df\n",
    "    \n",
    "def dask_add():\n",
    "    '''Adds dataframes together using dask\n",
    "    ''' \n",
    "    dask_df + dask_df + dask_df + dask_df + dask_df"
   ]
  },
  {
   "cell_type": "markdown",
   "metadata": {},
   "source": [
    "__Compare Adding Dataframes (single iteration)__"
   ]
  },
  {
   "cell_type": "code",
   "execution_count": 21,
   "metadata": {},
   "outputs": [
    {
     "name": "stdout",
     "output_type": "stream",
     "text": [
      "\n",
      "pandas execution time:  0.41359\n",
      "------------------------------\n",
      "\n",
      "dask execution time:  0.02015\n"
     ]
    }
   ],
   "source": [
    "print(\"\\npandas execution time: \", round(\n",
    "    timeit.timeit(pandas_add, number=1), 5)\n",
    "     )\n",
    "print(\"-\"*30)\n",
    "\n",
    "print(\"\\ndask execution time: \", round(\n",
    "    timeit.timeit(dask_add, number=1), 5)\n",
    "     )"
   ]
  },
  {
   "cell_type": "code",
   "execution_count": 27,
   "metadata": {},
   "outputs": [
    {
     "name": "stdout",
     "output_type": "stream",
     "text": [
      "pandas execution time:  0.40339\n",
      "------------------------------\n",
      "\n",
      "dask execution time:  0.01968\n",
      "------------------------------ \n",
      "\n",
      "95.121 % increase in speed\n"
     ]
    }
   ],
   "source": [
    "start_p = timer()\n",
    "# adding big dataframes in pandas\n",
    "pandas_df + pandas_df + pandas_df + pandas_df + pandas_df\n",
    "end_p = timer()\n",
    "pandas_time = round(end_p - start_p, 5)\n",
    "print(\"pandas execution time: \", pandas_time)\n",
    "print(\"-\"*30)\n",
    "\n",
    "start_d = timer()\n",
    "# adding big dataframes in dask\n",
    "dask_df + dask_df + dask_df + dask_df + dask_df\n",
    "end_d = timer()\n",
    "dask_time = round(end_d - start_d, 5)\n",
    "print(\"\\ndask execution time: \", dask_time)\n",
    "\n",
    "# calculating dask speed improvement\n",
    "print(\"-\"*30, \"\\n\")\n",
    "\n",
    "print(round((pandas_time - dask_time) / pandas_time*100, 3), \n",
    "      \"% increase in speed\")"
   ]
  },
  {
   "cell_type": "markdown",
   "metadata": {},
   "source": [
    "__Compare Adding Dataframes (10K iterations)__"
   ]
  },
  {
   "cell_type": "code",
   "execution_count": 24,
   "metadata": {},
   "outputs": [
    {
     "name": "stdout",
     "output_type": "stream",
     "text": [
      "\n",
      "pandas execution time:  4088.36484\n",
      "------------------------------\n",
      "\n",
      "dask execution time:  200.67291\n"
     ]
    }
   ],
   "source": [
    "print(\"\\npandas execution time: \", round(\n",
    "    timeit.timeit(pandas_add, number=10000), 5)\n",
    "     )\n",
    "print(\"-\"*30)\n",
    "\n",
    "print(\"\\ndask execution time: \", round(\n",
    "    timeit.timeit(dask_add, number=10000), 5)\n",
    "     )"
   ]
  },
  {
   "cell_type": "markdown",
   "metadata": {},
   "source": [
    "__Compare Adding Dataframes (100K iterations)__"
   ]
  },
  {
   "cell_type": "code",
   "execution_count": null,
   "metadata": {},
   "outputs": [],
   "source": [
    "# --time prohibitive--\n",
    "# print(\"\\npandas execution time: \", round(\n",
    "#     timeit.timeit(pandas_add, number=100000), 5)\n",
    "#      )\n",
    "# print(\"-\"*30)\n",
    "\n",
    "# print(\"\\ndask execution time: \", round(\n",
    "#     timeit.timeit(dask_add, number=100000), 5)\n",
    "#      )"
   ]
  },
  {
   "cell_type": "markdown",
   "metadata": {},
   "source": [
    "> Adding 5 dataframes together is about 95\\% faster over a large dataset, with dask on CPU."
   ]
  },
  {
   "cell_type": "markdown",
   "metadata": {},
   "source": [
    "======================================================"
   ]
  },
  {
   "cell_type": "markdown",
   "metadata": {},
   "source": [
    "## Compute GPU Acceleration with Dask vs Pandas"
   ]
  },
  {
   "cell_type": "markdown",
   "metadata": {},
   "source": [
    "__The cuDF library enables GPU acceleration for Pandas - Dask dataframe computation.__"
   ]
  },
  {
   "cell_type": "code",
   "execution_count": 28,
   "metadata": {},
   "outputs": [],
   "source": [
    "# import cudf\n",
    "\n",
    "# # reinstantiate `dask_df` for use with GPU backend\n",
    "# dask_df = dask_df.map_partitions(cudf.from_pandas) "
   ]
  },
  {
   "cell_type": "markdown",
   "metadata": {},
   "source": [
    "### ======_cuDF no longer available via pip [or for Windows???]_ ======\n",
    "\n",
    "__Resume in containerized environment.__"
   ]
  },
  {
   "cell_type": "code",
   "execution_count": 29,
   "metadata": {},
   "outputs": [
    {
     "name": "stdout",
     "output_type": "stream",
     "text": [
      "7413.23\n"
     ]
    }
   ],
   "source": [
    "# ending timer for complete notebook execution\n",
    "notebook_end = timer()\n",
    "\n",
    "# calculating time for complete notebook execution\n",
    "notebook_duration = notebook_end - notebook_start\n",
    "print(round(notebook_duration, 2))"
   ]
  },
  {
   "cell_type": "code",
   "execution_count": 30,
   "metadata": {},
   "outputs": [
    {
     "data": {
      "text/plain": [
       "123.55"
      ]
     },
     "execution_count": 30,
     "metadata": {},
     "output_type": "execute_result"
    }
   ],
   "source": [
    "7413/60"
   ]
  },
  {
   "cell_type": "code",
   "execution_count": null,
   "metadata": {},
   "outputs": [],
   "source": []
  }
 ],
 "metadata": {
  "kernelspec": {
   "display_name": "Python [conda env:pytorch-env] *",
   "language": "python",
   "name": "conda-env-pytorch-env-py"
  },
  "language_info": {
   "codemirror_mode": {
    "name": "ipython",
    "version": 3
   },
   "file_extension": ".py",
   "mimetype": "text/x-python",
   "name": "python",
   "nbconvert_exporter": "python",
   "pygments_lexer": "ipython3",
   "version": "3.6.9"
  },
  "toc": {
   "base_numbering": 1,
   "nav_menu": {},
   "number_sections": false,
   "sideBar": true,
   "skip_h1_title": false,
   "title_cell": "Table of Contents",
   "title_sidebar": "Contents",
   "toc_cell": false,
   "toc_position": {
    "height": "calc(100% - 180px)",
    "left": "10px",
    "top": "150px",
    "width": "203.537px"
   },
   "toc_section_display": true,
   "toc_window_display": true
  }
 },
 "nbformat": 4,
 "nbformat_minor": 2
}
