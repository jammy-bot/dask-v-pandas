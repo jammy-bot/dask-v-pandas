{
  "nbformat": 4,
  "nbformat_minor": 0,
  "metadata": {
    "kernelspec": {
      "display_name": "Python [conda env:pytorch-env]",
      "language": "python",
      "name": "conda-env-pytorch-env-py"
    },
    "language_info": {
      "codemirror_mode": {
        "name": "ipython",
        "version": 3
      },
      "file_extension": ".py",
      "mimetype": "text/x-python",
      "name": "python",
      "nbconvert_exporter": "python",
      "pygments_lexer": "ipython3",
      "version": "3.6.9"
    },
    "toc": {
      "base_numbering": 1,
      "nav_menu": {},
      "number_sections": false,
      "sideBar": true,
      "skip_h1_title": false,
      "title_cell": "Table of Contents",
      "title_sidebar": "Contents",
      "toc_cell": false,
      "toc_position": {
        "height": "calc(100% - 180px)",
        "left": "10px",
        "top": "150px",
        "width": "203.537px"
      },
      "toc_section_display": true,
      "toc_window_display": true
    },
    "colab": {
      "name": "dask-v-pandas.ipynb",
      "provenance": [],
      "include_colab_link": true
    }
  },
  "cells": [
    {
      "cell_type": "markdown",
      "metadata": {
        "id": "view-in-github",
        "colab_type": "text"
      },
      "source": [
        "<a href=\"https://colab.research.google.com/github/jammy-bot/dask-v-pandas/blob/master/dask-v-pandas-test_run.ipynb\" target=\"_parent\"><img src=\"https://colab.research.google.com/assets/colab-badge.svg\" alt=\"Open In Colab\"/></a>"
      ]
    },
    {
      "cell_type": "markdown",
      "metadata": {
        "id": "Hp6Lq4IVKZ3A",
        "colab_type": "text"
      },
      "source": [
        "# Dask Acceleration vs Pandas\n",
        "\n",
        "This notebook explores speed advantages realized by using the Dask library over Pandas for dataframe operations in Python.\n",
        "\n",
        "Local system:\n",
        "\n",
        "| Tech | Version |\n",
        "| --- | --- |\n",
        "| Python | 3.6.9 |\n",
        "| jupyter-notebook | 6.0.1 |\n",
        "| pandas | 1.0.3 |\n",
        "| dask | 2.17.2 |\n",
        "| x64 - based PC | i7 - 2.60 GHz |\n",
        "| RAM | 16.0 GB |\n",
        "\n",
        "Hat - tip to Saturn Cloud's [Your Practical Guide to Dask](https://www.saturncloud.io/s/practical-guide-to-dask/)."
      ]
    },
    {
      "cell_type": "code",
      "metadata": {
        "id": "zBQLsdgkKZ3A",
        "colab_type": "code",
        "colab": {}
      },
      "source": [
        "# importing library to measure execution time\n",
        "import timeit\n",
        "from timeit import default_timer as timer\n",
        "\n",
        "# starting timer for complete notebook execution\n",
        "notebook_start = timer()"
      ],
      "execution_count": 1,
      "outputs": []
    },
    {
      "cell_type": "code",
      "metadata": {
        "id": "gG8cm2pEKZ3D",
        "colab_type": "code",
        "colab": {}
      },
      "source": [
        "# importing required libraries\n",
        "import random\n",
        "import pandas as pd\n",
        "import os # for directory operations"
      ],
      "execution_count": 2,
      "outputs": []
    },
    {
      "cell_type": "markdown",
      "metadata": {
        "id": "Q7CtDTYYKZ3G",
        "colab_type": "text"
      },
      "source": [
        "__Randomize stock data in Python and save the data as a Pandas dataframe.__"
      ]
    },
    {
      "cell_type": "code",
      "metadata": {
        "id": "9o_9BPF0KZ3H",
        "colab_type": "code",
        "colab": {}
      },
      "source": [
        "# instantiating 1M random stock records\n",
        "num_rows = 1000000\n",
        "\n",
        "symbols = [\"AAPL\", \"AMD\", \"GOOG\", \"MSFT\", \"NVDA\"]\n",
        "prices = [random.randint(1, 500) for _ in range(50)]"
      ],
      "execution_count": 3,
      "outputs": []
    },
    {
      "cell_type": "code",
      "metadata": {
        "id": "HkO2KEUoKZ3J",
        "colab_type": "code",
        "colab": {}
      },
      "source": [
        "def get_stock_data(symbols, prices):\n",
        "    '''\n",
        "    function to generate random stock data from the\n",
        "    `symbols` list and the randomized `prices` list\n",
        "    '''\n",
        "    return {\"symbol\": random.sample(symbols, 1)[0],\n",
        "            \"price\": random.sample(prices, 1)[0]}"
      ],
      "execution_count": 4,
      "outputs": []
    },
    {
      "cell_type": "code",
      "metadata": {
        "id": "XkfxcWLDKZ3L",
        "colab_type": "code",
        "colab": {}
      },
      "source": [
        "# using the function to generate stock data for the\n",
        "# number of rows instantiated in `num_rows`\n",
        "stock_data = [get_stock_data(symbols, prices) for _ in range(num_rows)]\n",
        "\n",
        "# instantiate data as a pandas dataframe\n",
        "stock_df = pd.DataFrame(stock_data,\n",
        "                        columns=[\"symbol\", \"price\"])"
      ],
      "execution_count": 5,
      "outputs": []
    },
    {
      "cell_type": "markdown",
      "metadata": {
        "id": "ayOC9gx8KZ3O",
        "colab_type": "text"
      },
      "source": [
        "__Export stock data to a csv file.__"
      ]
    },
    {
      "cell_type": "code",
      "metadata": {
        "id": "DhI2SfsJKZ3O",
        "colab_type": "code",
        "colab": {
          "base_uri": "https://localhost:8080/",
          "height": 197
        },
        "outputId": "ccadcc9b-3e51-439d-e7a3-4af1c115a102"
      },
      "source": [
        "# save `stock_df` as a csv file in the data subdirectory\n",
        "if not os.path.exists('data'):\n",
        "    os.mkdir('data')\n",
        "\n",
        "# prefix filename with '__rc__' to .gitignore\n",
        "stock_df.to_csv(\"data/_rc_stock_data.csv\")\n",
        "\n",
        "# preview the dataframe\n",
        "stock_df.head()"
      ],
      "execution_count": 6,
      "outputs": [
        {
          "output_type": "execute_result",
          "data": {
            "text/html": [
              "<div>\n",
              "<style scoped>\n",
              "    .dataframe tbody tr th:only-of-type {\n",
              "        vertical-align: middle;\n",
              "    }\n",
              "\n",
              "    .dataframe tbody tr th {\n",
              "        vertical-align: top;\n",
              "    }\n",
              "\n",
              "    .dataframe thead th {\n",
              "        text-align: right;\n",
              "    }\n",
              "</style>\n",
              "<table border=\"1\" class=\"dataframe\">\n",
              "  <thead>\n",
              "    <tr style=\"text-align: right;\">\n",
              "      <th></th>\n",
              "      <th>symbol</th>\n",
              "      <th>price</th>\n",
              "    </tr>\n",
              "  </thead>\n",
              "  <tbody>\n",
              "    <tr>\n",
              "      <th>0</th>\n",
              "      <td>NVDA</td>\n",
              "      <td>211</td>\n",
              "    </tr>\n",
              "    <tr>\n",
              "      <th>1</th>\n",
              "      <td>AMD</td>\n",
              "      <td>362</td>\n",
              "    </tr>\n",
              "    <tr>\n",
              "      <th>2</th>\n",
              "      <td>AAPL</td>\n",
              "      <td>191</td>\n",
              "    </tr>\n",
              "    <tr>\n",
              "      <th>3</th>\n",
              "      <td>AMD</td>\n",
              "      <td>443</td>\n",
              "    </tr>\n",
              "    <tr>\n",
              "      <th>4</th>\n",
              "      <td>NVDA</td>\n",
              "      <td>350</td>\n",
              "    </tr>\n",
              "  </tbody>\n",
              "</table>\n",
              "</div>"
            ],
            "text/plain": [
              "  symbol  price\n",
              "0   NVDA    211\n",
              "1    AMD    362\n",
              "2   AAPL    191\n",
              "3    AMD    443\n",
              "4   NVDA    350"
            ]
          },
          "metadata": {
            "tags": []
          },
          "execution_count": 6
        }
      ]
    },
    {
      "cell_type": "markdown",
      "metadata": {
        "id": "baBAdqRfKZ3T",
        "colab_type": "text"
      },
      "source": [
        "## Load csv Data to a Dask Dataframe"
      ]
    },
    {
      "cell_type": "code",
      "metadata": {
        "id": "GagYkBqfKZ3U",
        "colab_type": "code",
        "colab": {}
      },
      "source": [
        "import dask.dataframe as dd\n",
        "\n",
        "# loading csv data to a dask dataframe\n",
        "dask_df = dd.read_csv(\"data/_rc_stock_data.csv\")"
      ],
      "execution_count": 7,
      "outputs": []
    },
    {
      "cell_type": "markdown",
      "metadata": {
        "id": "PExQaHbtKZ3W",
        "colab_type": "text"
      },
      "source": [
        "__Repartition dask data to sizes of 100MB-or-less, per [official documentation](https://docs.dask.org/en/latest/dataframe-best-practices.html#repartition-to-reduce-overhead)__."
      ]
    },
    {
      "cell_type": "code",
      "metadata": {
        "id": "HjblBVnmKZ3X",
        "colab_type": "code",
        "colab": {}
      },
      "source": [
        "# repartitioning dask dataframe from csv\n",
        "dask_df = dask_df.repartition(partition_size=\"100MB\")\n",
        "\n",
        "# loading pandas dataframe from csv\n",
        "pandas_df = pd.read_csv(\"data/_rc_stock_data.csv\")"
      ],
      "execution_count": 8,
      "outputs": []
    },
    {
      "cell_type": "markdown",
      "metadata": {
        "id": "Gm2HVc_ZKZ3Z",
        "colab_type": "text"
      },
      "source": [
        "## Compute CPU Acceleration with Dask vs Pandas"
      ]
    },
    {
      "cell_type": "markdown",
      "metadata": {
        "id": "01TkLrM2KZ3Z",
        "colab_type": "text"
      },
      "source": [
        "### Calculate Mean"
      ]
    },
    {
      "cell_type": "markdown",
      "metadata": {
        "id": "1KjK7eNUKZ3Z",
        "colab_type": "text"
      },
      "source": [
        "__Create functions to calculate mean for the same dataframe in each of the two libraries.__"
      ]
    },
    {
      "cell_type": "code",
      "metadata": {
        "id": "ksucjR8LKZ3a",
        "colab_type": "code",
        "colab": {}
      },
      "source": [
        "def pandas_mean():\n",
        "    '''Calculates mean using pandas\n",
        "    ''' \n",
        "    pandas_df[\"price\"].mean()\n",
        "    \n",
        "def dask_mean():\n",
        "    '''Calculate means using dask\n",
        "    ''' \n",
        "    dask_df[\"price\"].mean()"
      ],
      "execution_count": 9,
      "outputs": []
    },
    {
      "cell_type": "markdown",
      "metadata": {
        "id": "IlHIuqi-KZ3b",
        "colab_type": "text"
      },
      "source": [
        "__Compare Calculating Means (single iteration)__"
      ]
    },
    {
      "cell_type": "code",
      "metadata": {
        "id": "BEeg-15yKZ3c",
        "colab_type": "code",
        "colab": {
          "base_uri": "https://localhost:8080/",
          "height": 105
        },
        "outputId": "c50d0b0a-ee54-4ad7-e3d2-0d65e2fef7a3"
      },
      "source": [
        "print(\"\\npandas execution time: \", round(\n",
        "    timeit.timeit(pandas_mean, number=1), 5)\n",
        "     )\n",
        "print(\"-\"*30)\n",
        "\n",
        "print(\"\\ndask execution time: \", round(\n",
        "    timeit.timeit(dask_mean, number=1), 5)\n",
        "     )"
      ],
      "execution_count": 10,
      "outputs": [
        {
          "output_type": "stream",
          "text": [
            "\n",
            "pandas execution time:  0.00621\n",
            "------------------------------\n",
            "\n",
            "dask execution time:  0.00205\n"
          ],
          "name": "stdout"
        }
      ]
    },
    {
      "cell_type": "code",
      "metadata": {
        "id": "fakqyQwgKZ3e",
        "colab_type": "code",
        "colab": {
          "base_uri": "https://localhost:8080/",
          "height": 87
        },
        "outputId": "3e1b641f-ef1c-44ee-d5fb-c915967dff22"
      },
      "source": [
        "# computing and comparing task execution with `timer()`\n",
        "start = timer()\n",
        "\n",
        "# Calculate mean using pandas\n",
        "pandas_df[\"price\"].mean()\n",
        "\n",
        "end = timer()\n",
        "\n",
        "# print time elapsed in seconds\n",
        "print(\"pandas execution time: \", round(end - start, 5))\n",
        "print(\"-\"*30)\n",
        "\n",
        "start = timer()\n",
        "\n",
        "# Calculate mean using Dask\n",
        "dask_df[\"price\"].mean()\n",
        "\n",
        "end = timer()\n",
        "\n",
        "# print time elapsed in seconds\n",
        "print(\"\\ndask execution time: \", round(end - start, 5))"
      ],
      "execution_count": 11,
      "outputs": [
        {
          "output_type": "stream",
          "text": [
            "pandas execution time:  0.00191\n",
            "------------------------------\n",
            "\n",
            "dask execution time:  0.00304\n"
          ],
          "name": "stdout"
        }
      ]
    },
    {
      "cell_type": "markdown",
      "metadata": {
        "id": "q2_GjWdsKZ3g",
        "colab_type": "text"
      },
      "source": [
        "__Compare Calculating Means (10K iterations)__"
      ]
    },
    {
      "cell_type": "code",
      "metadata": {
        "id": "KVLIMNJgKZ3g",
        "colab_type": "code",
        "colab": {
          "base_uri": "https://localhost:8080/",
          "height": 105
        },
        "outputId": "fcc925cd-af72-4c59-e383-632188511741"
      },
      "source": [
        "print(\"\\npandas execution time: \", round(\n",
        "    timeit.timeit(pandas_mean, number=10000), 2)\n",
        "     )\n",
        "print(\"-\"*30)\n",
        "\n",
        "print(\"\\ndask execution time: \", round(\n",
        "    timeit.timeit(dask_mean, number=10000), 2)\n",
        "     )"
      ],
      "execution_count": 12,
      "outputs": [
        {
          "output_type": "stream",
          "text": [
            "\n",
            "pandas execution time:  15.19\n",
            "------------------------------\n",
            "\n",
            "dask execution time:  12.71\n"
          ],
          "name": "stdout"
        }
      ]
    },
    {
      "cell_type": "markdown",
      "metadata": {
        "id": "iHW3M31-KZ3i",
        "colab_type": "text"
      },
      "source": [
        "__Compare Calculating Means (100K iterations)__"
      ]
    },
    {
      "cell_type": "code",
      "metadata": {
        "id": "Rkap1m2MKZ3i",
        "colab_type": "code",
        "colab": {}
      },
      "source": [
        "# computing means\n",
        "p_mean = round(timeit.timeit(pandas_mean, number=100000), 2)\n",
        "d_mean = round(timeit.timeit(dask_mean, number=100000), 2)"
      ],
      "execution_count": 13,
      "outputs": []
    },
    {
      "cell_type": "code",
      "metadata": {
        "id": "YkaNQAMNKZ3k",
        "colab_type": "code",
        "colab": {
          "base_uri": "https://localhost:8080/",
          "height": 141
        },
        "outputId": "480cef03-7274-4a76-fd27-2ce236482a62"
      },
      "source": [
        "# comparing means\n",
        "print(\"\\npandas execution time: \", p_mean)\n",
        "print(\"-\"*30)\n",
        "print(\"\\ndask execution time: \", d_mean)\n",
        "\n",
        "print(\"\\nCalculating means is about\",\n",
        "      round((p_mean - d_mean) / p_mean*100, 2),\n",
        "      \"% faster over a large dataset, with dask on CPU.\")"
      ],
      "execution_count": 14,
      "outputs": [
        {
          "output_type": "stream",
          "text": [
            "\n",
            "pandas execution time:  149.5\n",
            "------------------------------\n",
            "\n",
            "dask execution time:  127.39\n",
            "\n",
            "Calculating means is about 14.79 % faster over a large dataset, with dask on CPU.\n"
          ],
          "name": "stdout"
        }
      ]
    },
    {
      "cell_type": "markdown",
      "metadata": {
        "id": "1wbk5ayAKZ3m",
        "colab_type": "text"
      },
      "source": [
        "### Filter Dataframe"
      ]
    },
    {
      "cell_type": "markdown",
      "metadata": {
        "id": "kIf3lRVpKZ3m",
        "colab_type": "text"
      },
      "source": [
        "__Create functions to filter dataframe in each of the two libraries.__"
      ]
    },
    {
      "cell_type": "code",
      "metadata": {
        "id": "5VPSPDifKZ3n",
        "colab_type": "code",
        "colab": {}
      },
      "source": [
        "def pandas_filter():\n",
        "    '''Filters by price using pandas\n",
        "    ''' \n",
        "    pandas_df[pandas_df[\"price\"] > 250]\n",
        "    \n",
        "def dask_filter():\n",
        "    '''Filters by price using dask\n",
        "    ''' \n",
        "    dask_df[dask_df[\"price\"] > 250]"
      ],
      "execution_count": 15,
      "outputs": []
    },
    {
      "cell_type": "markdown",
      "metadata": {
        "id": "1sp1Kay8KZ3p",
        "colab_type": "text"
      },
      "source": [
        "__Compare Filtering Dataframes (single iteration)__"
      ]
    },
    {
      "cell_type": "code",
      "metadata": {
        "id": "iYr2A4BBKZ3q",
        "colab_type": "code",
        "colab": {
          "base_uri": "https://localhost:8080/",
          "height": 105
        },
        "outputId": "9b37adbf-8a64-45c2-a6df-dce9e9f1edb4"
      },
      "source": [
        "print(\"\\npandas execution time: \", round(\n",
        "    timeit.timeit(pandas_filter, number=1), 5)\n",
        "     )\n",
        "print(\"-\"*30)\n",
        "\n",
        "print(\"\\ndask execution time: \", round(\n",
        "    timeit.timeit(dask_filter, number=1), 5)\n",
        "     )"
      ],
      "execution_count": 16,
      "outputs": [
        {
          "output_type": "stream",
          "text": [
            "\n",
            "pandas execution time:  0.02717\n",
            "------------------------------\n",
            "\n",
            "dask execution time:  0.00147\n"
          ],
          "name": "stdout"
        }
      ]
    },
    {
      "cell_type": "code",
      "metadata": {
        "id": "4DlQjo6xKZ3r",
        "colab_type": "code",
        "colab": {
          "base_uri": "https://localhost:8080/",
          "height": 87
        },
        "outputId": "34520951-774a-477b-aa5c-88011c051757"
      },
      "source": [
        "# computing and comparing task execution with `timer()`\n",
        "start_p = timer()\n",
        "# Filtering by price in Pandas\n",
        "pandas_df[pandas_df[\"price\"] > 250]\n",
        "end_p = timer()\n",
        "pandas_time = round(end_p - start_p, 5)\n",
        "\n",
        "print(\"pandas execution time: \", pandas_time)\n",
        "print(\"-\"*30)\n",
        "\n",
        "start_d = timer()\n",
        "# Filtering by price in Dask\n",
        "dask_df[dask_df[\"price\"] > 250]\n",
        "end_d = timer()\n",
        "dask_time = round(end_d - start_d, 5)\n",
        "\n",
        "print(\"\\ndask execution time: \", dask_time)"
      ],
      "execution_count": 17,
      "outputs": [
        {
          "output_type": "stream",
          "text": [
            "pandas execution time:  0.0221\n",
            "------------------------------\n",
            "\n",
            "dask execution time:  0.00184\n"
          ],
          "name": "stdout"
        }
      ]
    },
    {
      "cell_type": "markdown",
      "metadata": {
        "id": "7duD6ACUKZ3t",
        "colab_type": "text"
      },
      "source": [
        "__Compare Filtering Dataframes (10K iterations)__"
      ]
    },
    {
      "cell_type": "code",
      "metadata": {
        "id": "vudv47S3KZ3u",
        "colab_type": "code",
        "colab": {
          "base_uri": "https://localhost:8080/",
          "height": 105
        },
        "outputId": "1c4e0067-3bb7-4f7f-bea5-614481f6e4eb"
      },
      "source": [
        "print(\"\\npandas execution time: \", round(\n",
        "    timeit.timeit(pandas_filter, number=10000), 2)\n",
        "     )\n",
        "print(\"-\"*30)\n",
        "\n",
        "print(\"\\ndask execution time: \", round(\n",
        "    timeit.timeit(dask_filter, number=10000), 2)\n",
        "     )"
      ],
      "execution_count": 18,
      "outputs": [
        {
          "output_type": "stream",
          "text": [
            "\n",
            "pandas execution time:  194.62\n",
            "------------------------------\n",
            "\n",
            "dask execution time:  8.62\n"
          ],
          "name": "stdout"
        }
      ]
    },
    {
      "cell_type": "markdown",
      "metadata": {
        "id": "BtQ_TYXOKZ3v",
        "colab_type": "text"
      },
      "source": [
        "__Compare Filtering Dataframes (100K iterations)__"
      ]
    },
    {
      "cell_type": "code",
      "metadata": {
        "id": "jGO7_AM5KZ3w",
        "colab_type": "code",
        "colab": {
          "base_uri": "https://localhost:8080/",
          "height": 105
        },
        "outputId": "2a39bcb6-2834-4068-e416-b39e3ed92301"
      },
      "source": [
        "# computing filter time\n",
        "p_filter = round(timeit.timeit(pandas_filter, number=100000), 2)\n",
        "\n",
        "print(\"\\npandas execution time: \", p_filter)\n",
        "print(\"-\"*30)\n",
        "\n",
        "d_filter = round(timeit.timeit(dask_filter, number=100000), 2)\n",
        "\n",
        "print(\"\\ndask execution time: \", d_filter)"
      ],
      "execution_count": 19,
      "outputs": [
        {
          "output_type": "stream",
          "text": [
            "\n",
            "pandas execution time:  1938.86\n",
            "------------------------------\n",
            "\n",
            "dask execution time:  87.08\n"
          ],
          "name": "stdout"
        }
      ]
    },
    {
      "cell_type": "code",
      "metadata": {
        "id": "NO5Yef8fKZ3x",
        "colab_type": "code",
        "colab": {
          "base_uri": "https://localhost:8080/",
          "height": 52
        },
        "outputId": "3ac47b6d-a2a0-4c17-f40d-80157bb0072d"
      },
      "source": [
        "# comparing filter execution time\n",
        "print(\"\\nFiltering is about\",\n",
        "      round((p_filter - d_filter) / p_filter*100, 2),\n",
        "      \"% faster over a large dataset, with dask on CPU.\")"
      ],
      "execution_count": 20,
      "outputs": [
        {
          "output_type": "stream",
          "text": [
            "\n",
            "Filtering is about 95.51 % faster over a large dataset, with dask on CPU.\n"
          ],
          "name": "stdout"
        }
      ]
    },
    {
      "cell_type": "markdown",
      "metadata": {
        "id": "CFhsExftKZ3z",
        "colab_type": "text"
      },
      "source": [
        "### Add Dataframes"
      ]
    },
    {
      "cell_type": "markdown",
      "metadata": {
        "id": "MNfVUmnEKZ30",
        "colab_type": "text"
      },
      "source": [
        "__Create functions to add dataframes in each of the two libraries.__"
      ]
    },
    {
      "cell_type": "code",
      "metadata": {
        "id": "7CNoZQXCKZ30",
        "colab_type": "code",
        "colab": {}
      },
      "source": [
        "def pandas_add():\n",
        "    '''Adds dataframes together using pandas\n",
        "    ''' \n",
        "    pandas_df + pandas_df + pandas_df + pandas_df + pandas_df\n",
        "    \n",
        "def dask_add():\n",
        "    '''Adds dataframes together using dask\n",
        "    ''' \n",
        "    dask_df + dask_df + dask_df + dask_df + dask_df"
      ],
      "execution_count": 21,
      "outputs": []
    },
    {
      "cell_type": "markdown",
      "metadata": {
        "id": "pITjY1CkKZ32",
        "colab_type": "text"
      },
      "source": [
        "__Compare Adding Dataframes (single iteration)__"
      ]
    },
    {
      "cell_type": "code",
      "metadata": {
        "id": "qmN8IUa1KZ33",
        "colab_type": "code",
        "colab": {
          "base_uri": "https://localhost:8080/",
          "height": 105
        },
        "outputId": "d02e7ab0-372e-4b13-8dc3-e3c1cbc27794"
      },
      "source": [
        "print(\"\\npandas execution time: \", round(\n",
        "    timeit.timeit(pandas_add, number=1), 5)\n",
        "     )\n",
        "print(\"-\"*30)\n",
        "\n",
        "print(\"\\ndask execution time: \", round(\n",
        "    timeit.timeit(dask_add, number=1), 5)\n",
        "     )"
      ],
      "execution_count": 22,
      "outputs": [
        {
          "output_type": "stream",
          "text": [
            "\n",
            "pandas execution time:  0.65694\n",
            "------------------------------\n",
            "\n",
            "dask execution time:  0.02987\n"
          ],
          "name": "stdout"
        }
      ]
    },
    {
      "cell_type": "code",
      "metadata": {
        "id": "IeqaapYQKZ35",
        "colab_type": "code",
        "colab": {
          "base_uri": "https://localhost:8080/",
          "height": 141
        },
        "outputId": "e27227e2-521d-4603-9056-427bf2647cde"
      },
      "source": [
        "start_p = timer()\n",
        "# adding big dataframes in pandas\n",
        "pandas_df + pandas_df + pandas_df + pandas_df + pandas_df\n",
        "end_p = timer()\n",
        "pandas_time = round(end_p - start_p, 5)\n",
        "print(\"pandas execution time: \", pandas_time)\n",
        "print(\"-\"*30)\n",
        "\n",
        "start_d = timer()\n",
        "# adding big dataframes in dask\n",
        "dask_df + dask_df + dask_df + dask_df + dask_df\n",
        "end_d = timer()\n",
        "dask_time = round(end_d - start_d, 5)\n",
        "print(\"\\ndask execution time: \", dask_time)\n",
        "\n",
        "# calculating dask speed improvement\n",
        "print(\"-\"*30, \"\\n\")\n",
        "\n",
        "print(round((pandas_time - dask_time) / pandas_time*100, 3), \n",
        "      \"% increase in speed\")"
      ],
      "execution_count": 23,
      "outputs": [
        {
          "output_type": "stream",
          "text": [
            "pandas execution time:  0.51555\n",
            "------------------------------\n",
            "\n",
            "dask execution time:  0.02756\n",
            "------------------------------ \n",
            "\n",
            "94.654 % increase in speed\n"
          ],
          "name": "stdout"
        }
      ]
    },
    {
      "cell_type": "markdown",
      "metadata": {
        "id": "SZhew5Z4KZ37",
        "colab_type": "text"
      },
      "source": [
        "__Compare Adding Dataframes (10K iterations)__"
      ]
    },
    {
      "cell_type": "code",
      "metadata": {
        "id": "Kp4B1U2TKZ37",
        "colab_type": "code",
        "colab": {
          "base_uri": "https://localhost:8080/",
          "height": 141
        },
        "outputId": "23ed6c3f-da0f-458c-e215-1ff3331f8f18"
      },
      "source": [
        "# compute\n",
        "p_add = timeit.timeit(pandas_add, number=10000)\n",
        "\n",
        "print(\"\\npandas execution time: \", round(\n",
        "    p_add, 2)\n",
        "     )\n",
        "print(\"-\"*30)\n",
        "\n",
        "d_add = timeit.timeit(dask_add, number=10000)\n",
        "\n",
        "print(\"\\ndask execution time: \", round(\n",
        "    d_add, 2)\n",
        "     )\n",
        "\n",
        "print(\"\\nAdding dataframes is about\",\n",
        "      round((p_add - d_add) / p_add*100, 2),\n",
        "      \"% faster over a large dataset, with dask on CPU.\")"
      ],
      "execution_count": 24,
      "outputs": [
        {
          "output_type": "stream",
          "text": [
            "\n",
            "pandas execution time:  5076.81\n",
            "------------------------------\n",
            "\n",
            "dask execution time:  243.15\n",
            "\n",
            "Adding dataframes is about 95.21 % faster over a large dataset, with dask on CPU.\n"
          ],
          "name": "stdout"
        }
      ]
    },
    {
      "cell_type": "code",
      "metadata": {
        "id": "26VxWzoTKZ39",
        "colab_type": "code",
        "colab": {
          "base_uri": "https://localhost:8080/",
          "height": 34
        },
        "outputId": "f510c599-755e-437e-e291-80db21c0748d"
      },
      "source": [
        "# ending timer for complete notebook execution\n",
        "notebook_end = timer()\n",
        "\n",
        "# calculating time for complete notebook execution\n",
        "notebook_duration = notebook_end - notebook_start\n",
        "print(round(notebook_duration, 2))"
      ],
      "execution_count": 25,
      "outputs": [
        {
          "output_type": "stream",
          "text": [
            "7865.28\n"
          ],
          "name": "stdout"
        }
      ]
    },
    {
      "cell_type": "markdown",
      "metadata": {
        "id": "5tFr7qI7KZ3-",
        "colab_type": "text"
      },
      "source": [
        "__Compare Adding Dataframes (100K iterations)__"
      ]
    },
    {
      "cell_type": "code",
      "metadata": {
        "id": "_CWxHZ_RKZ3_",
        "colab_type": "code",
        "colab": {
          "base_uri": "https://localhost:8080/",
          "height": 34
        },
        "outputId": "628ff810-6572-4925-9b9f-51f5e8f3a1d9"
      },
      "source": [
        "# compute\n",
        "# --time prohibitive--\n",
        "# p_add = timeit.timeit(pandas_add, number=100000)\n",
        "\n",
        "# compute for dask, only, in seconds\n",
        "d_add = timeit.timeit(dask_add, number=100000)\n",
        "d_add"
      ],
      "execution_count": 26,
      "outputs": [
        {
          "output_type": "execute_result",
          "data": {
            "text/plain": [
              "2463.9490558359994"
            ]
          },
          "metadata": {
            "tags": []
          },
          "execution_count": 26
        }
      ]
    },
    {
      "cell_type": "code",
      "metadata": {
        "id": "KDItolqNKZ4A",
        "colab_type": "code",
        "colab": {
          "base_uri": "https://localhost:8080/",
          "height": 87
        },
        "outputId": "0c264686-1198-4808-90f4-a9bc3081f731"
      },
      "source": [
        "# print(\"\\npandas execution time: \", round(\n",
        "#     p_add, 2)\n",
        "#      )\n",
        "# print(\"-\"*30)\n",
        "\n",
        "print(\"\\ndask execution time: \", round(\n",
        "    d_add), 2)\n",
        "\n",
        "print(\"\\nAdding dataframes takes about\",\n",
        "      round(d_add/60, 2),\n",
        "      \"minutes over the large datasets, with dask on CPU.\")"
      ],
      "execution_count": 27,
      "outputs": [
        {
          "output_type": "stream",
          "text": [
            "\n",
            "dask execution time:  2464 2\n",
            "\n",
            "Adding dataframes takes about 41.07 minutes over the large datasets, with dask on CPU.\n"
          ],
          "name": "stdout"
        }
      ]
    },
    {
      "cell_type": "markdown",
      "metadata": {
        "id": "SnxSCsO8KZ4D",
        "colab_type": "text"
      },
      "source": [
        "======================================================"
      ]
    },
    {
      "cell_type": "markdown",
      "metadata": {
        "id": "9_GZeQoGKZ4E",
        "colab_type": "text"
      },
      "source": [
        "## Compute GPU Acceleration with Dask vs Pandas"
      ]
    },
    {
      "cell_type": "markdown",
      "metadata": {
        "id": "UHfcOtLpKZ4E",
        "colab_type": "text"
      },
      "source": [
        "__The cuDF library enables GPU acceleration for Pandas - Dask dataframe computation.__"
      ]
    },
    {
      "cell_type": "code",
      "metadata": {
        "id": "OzqMdoIoKZ4E",
        "colab_type": "code",
        "colab": {}
      },
      "source": [
        "# import cudf\n",
        "\n",
        "# # reinstantiate `dask_df` for use with GPU backend\n",
        "# dask_df = dask_df.map_partitions(cudf.from_pandas) "
      ],
      "execution_count": 28,
      "outputs": []
    },
    {
      "cell_type": "markdown",
      "metadata": {
        "id": "9UjbN7TdKZ4G",
        "colab_type": "text"
      },
      "source": [
        "### ======_cuDF no longer available via pip [or for Windows???]_ ======\n",
        "\n",
        "__Resume in containerized environment.__"
      ]
    },
    {
      "cell_type": "code",
      "metadata": {
        "id": "LHusVt8TKZ4G",
        "colab_type": "code",
        "colab": {
          "base_uri": "https://localhost:8080/",
          "height": 34
        },
        "outputId": "ebdc70cd-737f-4bdb-cbc6-22fa07b62f2f"
      },
      "source": [
        "# ending timer for complete notebook execution\n",
        "notebook_end = timer()\n",
        "\n",
        "# calculating time for complete notebook execution\n",
        "notebook_duration = notebook_end - notebook_start\n",
        "print(round(notebook_duration, 2))"
      ],
      "execution_count": 29,
      "outputs": [
        {
          "output_type": "stream",
          "text": [
            "10329.29\n"
          ],
          "name": "stdout"
        }
      ]
    },
    {
      "cell_type": "markdown",
      "metadata": {
        "id": "-iTDkiy1KZ4I",
        "colab_type": "text"
      },
      "source": [
        "# ---"
      ]
    },
    {
      "cell_type": "code",
      "metadata": {
        "id": "O6Uy4dkDKZ4I",
        "colab_type": "code",
        "colab": {}
      },
      "source": [
        ""
      ],
      "execution_count": 29,
      "outputs": []
    }
  ]
}